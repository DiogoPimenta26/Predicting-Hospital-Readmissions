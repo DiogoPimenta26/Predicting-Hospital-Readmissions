{
 "cells": [
  {
   "cell_type": "markdown",
   "metadata": {},
   "source": [
    "# Model Selection\n"
   ]
  },
  {
   "cell_type": "markdown",
   "metadata": {},
   "source": [
    "1. [Binary Classification](#1.-Binary-Classification) <br>\n",
    "    1.1 [Decision Tree](#1.1-Decision-Tree)<br>\n",
    "    1.2 [Logistic Regression](#1.2-logistic-regression)<br>\n",
    "    1.3 [Knn](#1.3-knn)<br>\n",
    "    1.4 [Naive Bayes](#1.4-naive-bayes)<br>\n",
    "    1.5 [Neural Networks](#1.5-neural-networks)<br>\n",
    "    1.6 [SVM](#1.6-svm)<br>\n",
    "    1.7 [Ensembles](#1.7-ensembles)<br>\n",
    "        &nbsp;&nbsp;&nbsp;&nbsp;1.7.1 [Random Forest](#1.7.1-random-forest)<br>\n",
    "        &nbsp;&nbsp;&nbsp;&nbsp;1.7.2 [Bagging Decision Tree](#1.7.2-bagging-decision-tree)<br>\n",
    "        &nbsp;&nbsp;&nbsp;&nbsp;1.7.3 [Bagging Logistic Regression](#1.7.3-bagging-logistic-regression)<br>\n",
    "        &nbsp;&nbsp;&nbsp;&nbsp;1.7.4 [Bagging Naive Bayes](#1.7.4-bagging-naive-bayes)<br>\n",
    "        &nbsp;&nbsp;&nbsp;&nbsp;1.7.5 [Adaboost Decision Tree](#1.7.5-adaboost-decision-tree)<br>\n",
    "        &nbsp;&nbsp;&nbsp;&nbsp;1.7.6 [Adaboost Logistic Regression](#1.7.6-adaboost-logistic-regression)<br>\n",
    "        &nbsp;&nbsp;&nbsp;&nbsp;1.7.7 [Adaboost Naive Bayes](#1.7.7-adaboost-naive-bayes)<br>\n",
    "        &nbsp;&nbsp;&nbsp;&nbsp;1.7.8 [Gradient Boosting](#1.7.8-gradient-boosting)<br>\n",
    "    1.8 [Model Selection binary problem](#1.8-model-selection-binary-problem)<br>\n",
    "    1.9 [Final model](#1.9-final-model-(Binary))<br>\n",
    "2. [Multiclass Classification](#2.-Multiclass-Classification) <br>\n",
    "    2.1 [Decision Tree](#2.1-Decision-Tree-M)<br>\n",
    "    2.2 [Logistic Regression](#2.2-logistic-regression-M)<br>\n",
    "    2.3 [Knn](#2.3-knn-M)<br>\n",
    "    2.4 [Naive Bayes](#2.4-naive-bayes-M)<br>\n",
    "    2.5 [Neural Networks](#2.5-neural-networks-M)<br>\n",
    "    2.6 [SVM](#2.6-svm-M)<br>\n",
    "    2.7 [Ensembles](#2.7-ensembles-M)<br>\n",
    "        &nbsp;&nbsp;&nbsp;&nbsp;1.7.1 [Random Forest](#2.7.1-random-forest-M)<br>\n",
    "        &nbsp;&nbsp;&nbsp;&nbsp;1.7.2 [Bagging Decision Tree](#2.7.2-bagging-decision-tree-M)<br>\n",
    "        &nbsp;&nbsp;&nbsp;&nbsp;1.7.3 [Bagging Logistic Regression](#2.7.3-bagging-logistic-regression-M)<br>\n",
    "        &nbsp;&nbsp;&nbsp;&nbsp;1.7.4 [Bagging Naive Bayes](#2.7.4-bagging-naive-bayes-M)<br>\n",
    "        &nbsp;&nbsp;&nbsp;&nbsp;1.7.5 [Adaboost Decision Tree](#2.7.5-adaboost-decision-tree-M)<br>\n",
    "        &nbsp;&nbsp;&nbsp;&nbsp;1.7.6 [Adaboost Logistic Regression](#2.7.6-adaboost-logistic-regression-M)<br>\n",
    "        &nbsp;&nbsp;&nbsp;&nbsp;1.7.7 [Adaboost Naive Bayes](#2.7.7-adaboost-naive-bayes-M)<br>\n",
    "        &nbsp;&nbsp;&nbsp;&nbsp;1.7.8 [Gradient Boosting](#2.7.8-gradient-boosting-M)<br>\n",
    "    2.8 [Model Selection multiclass problem](#2.8-model-selection-multiclass-problem)<br>\n",
    "    2.9 [Final model](#2.9-final-model-(Multiclass))<br>"
   ]
  },
  {
   "cell_type": "code",
   "execution_count": 1,
   "metadata": {},
   "outputs": [],
   "source": [
    "import pandas as pd\n",
    "import matplotlib.pyplot as plt\n",
    "import seaborn as sns\n",
    "import numpy as np\n",
    "\n",
    "\n",
    "from sklearn.ensemble import RandomForestClassifier, GradientBoostingClassifier, BaggingClassifier, AdaBoostClassifier\n",
    "from sklearn.tree import DecisionTreeClassifier\n",
    "from sklearn.linear_model import LogisticRegression\n",
    "from sklearn.neighbors import KNeighborsClassifier\n",
    "from sklearn.svm import SVC\n",
    "from sklearn.naive_bayes import BernoulliNB\n",
    "from sklearn.neural_network import MLPClassifier\n",
    "\n",
    "\n",
    "from sklearn.model_selection import RandomizedSearchCV, StratifiedKFold, cross_val_score, cross_val_predict\n",
    "from sklearn.metrics import confusion_matrix, precision_score, recall_score\n"
   ]
  },
  {
   "cell_type": "code",
   "execution_count": 2,
   "metadata": {},
   "outputs": [],
   "source": [
    "train = pd.read_csv('train_cleaned.csv').set_index('encounter_id')\n",
    "target_binary = pd.read_csv('target_binary.csv').set_index('encounter_id')\n",
    "test_cleaned = pd.read_csv('test_cleaned.csv').set_index('encounter_id')\n",
    "target_multiclass = pd.read_csv('target_multiclass.csv').set_index('encounter_id')"
   ]
  },
  {
   "cell_type": "markdown",
   "metadata": {},
   "source": [
    "### Some funtions:"
   ]
  },
  {
   "cell_type": "code",
   "execution_count": 31,
   "metadata": {},
   "outputs": [],
   "source": [
    "def get_best_params (model, param_grid, X, y):\n",
    "    random_search = RandomizedSearchCV(model, param_distributions=param_grid, n_iter=10, scoring='f1', cv=StratifiedKFold(5), random_state=42, n_jobs=-1)\n",
    "    random_search.fit(X, y)\n",
    "\n",
    "    print(\"Best hyperparameters:\")\n",
    "    print(random_search.best_params_)\n",
    "    print(\"Best F1 score:\")\n",
    "    print(random_search.best_score_)\n",
    "    return random_search.best_score_"
   ]
  },
  {
   "cell_type": "code",
   "execution_count": 19,
   "metadata": {},
   "outputs": [],
   "source": [
    "def get_best_params_multiclass(model, param_grid, X, y):\n",
    "    random_search = RandomizedSearchCV(model, param_distributions=param_grid, n_iter=10, scoring='f1_weighted', cv=StratifiedKFold(5), random_state=42, n_jobs=-1)\n",
    "    random_search.fit(X, y)\n",
    "\n",
    "    print(\"Best hyperparameters:\")\n",
    "    print(random_search.best_params_)\n",
    "    print(\"Best weighted F1 score:\")\n",
    "    print(random_search.best_score_)\n",
    "    return random_search.best_score_\n"
   ]
  },
  {
   "cell_type": "code",
   "execution_count": 16,
   "metadata": {},
   "outputs": [],
   "source": [
    "def transf_multiclass(target):\n",
    "    if target == 'No':\n",
    "        return 0\n",
    "    elif target == '<30 days':\n",
    "        return 1\n",
    "    else:\n",
    "        return 2\n",
    "target_multiclass = target_multiclass['readmitted_multiclass'].apply(transf_multiclass)"
   ]
  },
  {
   "cell_type": "markdown",
   "metadata": {},
   "source": [
    "# 1. Binary Classification "
   ]
  },
  {
   "cell_type": "markdown",
   "metadata": {},
   "source": [
    "### 1.1 Decision tree"
   ]
  },
  {
   "cell_type": "code",
   "execution_count": 39,
   "metadata": {},
   "outputs": [
    {
     "name": "stdout",
     "output_type": "stream",
     "text": [
      "Best hyperparameters:\n",
      "{'min_samples_split': 20, 'min_samples_leaf': 2, 'min_impurity_decrease': 0.0, 'max_leaf_nodes': 20, 'max_features': 'sqrt', 'max_depth': 10, 'criterion': 'entropy'}\n",
      "Best F1 score:\n",
      "0.32104707091772433\n"
     ]
    }
   ],
   "source": [
    "# dtc = DecisionTreeClassifier(class_weight='balanced', random_state=42,)\n",
    "\n",
    "# param_grid = {\n",
    "#     'criterion': ['gini', 'entropy'],\n",
    "#     'max_depth': [None, 7, 10, 20, 30],\n",
    "#     'min_samples_split': [5, 10, 15, 20],\n",
    "#     'min_samples_leaf': [1, 2, 4],\n",
    "#     'max_features': ['sqrt', 'log2', None],\n",
    "#     'max_leaf_nodes': [None, 5, 10, 20, 30],\n",
    "#     'min_impurity_decrease': [0.0, 0.1, 0.2, 0.3]\n",
    "# }\n",
    "\n",
    "# dtc_score = get_best_params(dtc, param_grid, train, target_binary)"
   ]
  },
  {
   "cell_type": "code",
   "execution_count": 40,
   "metadata": {},
   "outputs": [],
   "source": [
    "dtc = DecisionTreeClassifier(class_weight='balanced', random_state=42, min_samples_split=20, min_samples_leaf=2, max_leaf_nodes=20, max_features='sqrt', max_depth=10, criterion='entropy', min_impurity_decrease=0.0)"
   ]
  },
  {
   "cell_type": "markdown",
   "metadata": {},
   "source": [
    "### 1.2 Logistic regression"
   ]
  },
  {
   "cell_type": "code",
   "execution_count": 17,
   "metadata": {},
   "outputs": [
    {
     "name": "stderr",
     "output_type": "stream",
     "text": [
      "c:\\Users\\manab\\AppData\\Local\\Programs\\Python\\Python311\\Lib\\site-packages\\sklearn\\utils\\validation.py:1183: DataConversionWarning: A column-vector y was passed when a 1d array was expected. Please change the shape of y to (n_samples, ), for example using ravel().\n",
      "  y = column_or_1d(y, warn=True)\n"
     ]
    },
    {
     "name": "stdout",
     "output_type": "stream",
     "text": [
      "Best hyperparameters:\n",
      "{'solver': 'saga', 'penalty': 'l1', 'C': 0.01}\n",
      "Best F1 score:\n",
      "0.32427031052708377\n"
     ]
    },
    {
     "name": "stderr",
     "output_type": "stream",
     "text": [
      "c:\\Users\\manab\\AppData\\Local\\Programs\\Python\\Python311\\Lib\\site-packages\\sklearn\\linear_model\\_sag.py:350: ConvergenceWarning: The max_iter was reached which means the coef_ did not converge\n",
      "  warnings.warn(\n"
     ]
    }
   ],
   "source": [
    "# logr = LogisticRegression(class_weight='balanced', random_state=42, n_jobs=-1)\n",
    "# param_grid = {\n",
    "#     'penalty': ['l1', 'l2'],\n",
    "#     'C': [0.01, 0.1, 1, 10, 100],\n",
    "#     'solver': ['liblinear', 'saga']\n",
    "# }\n",
    "\n",
    "# lr_score = get_best_params(logr, param_grid, train, target_binary)"
   ]
  },
  {
   "cell_type": "code",
   "execution_count": 18,
   "metadata": {},
   "outputs": [],
   "source": [
    "logr = LogisticRegression(class_weight='balanced', random_state=42, n_jobs=-1, solver='saga', penalty='l1', C=0.01)"
   ]
  },
  {
   "cell_type": "markdown",
   "metadata": {},
   "source": [
    "### 1.3 KNN"
   ]
  },
  {
   "cell_type": "code",
   "execution_count": 19,
   "metadata": {},
   "outputs": [
    {
     "name": "stdout",
     "output_type": "stream",
     "text": [
      "Best hyperparameters:\n",
      "{'weights': 'distance', 'n_neighbors': 3, 'metric': 'manhattan', 'leaf_size': 50, 'algorithm': 'brute'}\n",
      "Best F1 score:\n",
      "0.15758345575632274\n"
     ]
    },
    {
     "name": "stderr",
     "output_type": "stream",
     "text": [
      "c:\\Users\\manab\\AppData\\Local\\Programs\\Python\\Python311\\Lib\\site-packages\\sklearn\\neighbors\\_classification.py:233: DataConversionWarning: A column-vector y was passed when a 1d array was expected. Please change the shape of y to (n_samples,), for example using ravel().\n",
      "  return self._fit(X, y)\n"
     ]
    }
   ],
   "source": [
    "# knn = KNeighborsClassifier(n_jobs=-1)\n",
    "# param_grid = {\n",
    "#     'metric': ['euclidean', 'manhattan'],\n",
    "#     'n_neighbors': [3, 5, 10, 20],\n",
    "#     'weights': ['uniform', 'distance'],\n",
    "#     'algorithm': ['auto', 'kd_tree', 'brute'],\n",
    "#     'leaf_size': [10, 20, 30, 40, 50]   #aumentar\n",
    "# }\n",
    "\n",
    "# knn_score = get_best_params(knn, param_grid, train, target_binary)"
   ]
  },
  {
   "cell_type": "code",
   "execution_count": 20,
   "metadata": {},
   "outputs": [],
   "source": [
    "knn = KNeighborsClassifier(n_jobs=-1, weights='distance', n_neighbors=3, metric='manhattan', leaf_size=50, algorithm='brute')"
   ]
  },
  {
   "cell_type": "markdown",
   "metadata": {},
   "source": [
    "### 1.4 Naive bayes"
   ]
  },
  {
   "cell_type": "code",
   "execution_count": 32,
   "metadata": {},
   "outputs": [
    {
     "name": "stderr",
     "output_type": "stream",
     "text": [
      "c:\\Users\\manab\\AppData\\Local\\Programs\\Python\\Python311\\Lib\\site-packages\\sklearn\\model_selection\\_search.py:307: UserWarning: The total space of parameters 8 is smaller than n_iter=10. Running 8 iterations. For exhaustive searches, use GridSearchCV.\n",
      "  warnings.warn(\n"
     ]
    },
    {
     "name": "stdout",
     "output_type": "stream",
     "text": [
      "Best hyperparameters:\n",
      "{'fit_prior': False, 'alpha': 1.0}\n",
      "Best F1 score:\n",
      "0.3003553337984086\n"
     ]
    },
    {
     "name": "stderr",
     "output_type": "stream",
     "text": [
      "c:\\Users\\manab\\AppData\\Local\\Programs\\Python\\Python311\\Lib\\site-packages\\sklearn\\utils\\validation.py:1183: DataConversionWarning: A column-vector y was passed when a 1d array was expected. Please change the shape of y to (n_samples, ), for example using ravel().\n",
      "  y = column_or_1d(y, warn=True)\n"
     ]
    }
   ],
   "source": [
    "# bernoulli = BernoulliNB()\n",
    "\n",
    "# param_grid = {\n",
    "#     'alpha': [0.0, 0.1, 0.5, 1.0],\n",
    "#     'fit_prior': [True, False]\n",
    "# }\n",
    "\n",
    "# bernoulli_score = get_best_params(bernoulli, param_grid, train, target_binary)"
   ]
  },
  {
   "cell_type": "code",
   "execution_count": 43,
   "metadata": {},
   "outputs": [],
   "source": [
    "bernoulli = BernoulliNB(alpha=1.0, fit_prior=False)"
   ]
  },
  {
   "cell_type": "markdown",
   "metadata": {},
   "source": [
    "### 1.5 Neural networks"
   ]
  },
  {
   "cell_type": "code",
   "execution_count": 24,
   "metadata": {},
   "outputs": [
    {
     "name": "stderr",
     "output_type": "stream",
     "text": [
      "c:\\Users\\manab\\AppData\\Local\\Programs\\Python\\Python311\\Lib\\site-packages\\sklearn\\neural_network\\_multilayer_perceptron.py:1102: DataConversionWarning: A column-vector y was passed when a 1d array was expected. Please change the shape of y to (n_samples, ), for example using ravel().\n",
      "  y = column_or_1d(y, warn=True)\n"
     ]
    },
    {
     "name": "stderr",
     "output_type": "stream",
     "text": [
      "c:\\Users\\manab\\AppData\\Local\\Programs\\Python\\Python311\\Lib\\site-packages\\sklearn\\neural_network\\_multilayer_perceptron.py:691: ConvergenceWarning: Stochastic Optimizer: Maximum iterations (200) reached and the optimization hasn't converged yet.\n",
      "  warnings.warn(\n",
      "c:\\Users\\manab\\AppData\\Local\\Programs\\Python\\Python311\\Lib\\site-packages\\sklearn\\neural_network\\_multilayer_perceptron.py:1102: DataConversionWarning: A column-vector y was passed when a 1d array was expected. Please change the shape of y to (n_samples, ), for example using ravel().\n",
      "  y = column_or_1d(y, warn=True)\n",
      "c:\\Users\\manab\\AppData\\Local\\Programs\\Python\\Python311\\Lib\\site-packages\\sklearn\\neural_network\\_multilayer_perceptron.py:691: ConvergenceWarning: Stochastic Optimizer: Maximum iterations (200) reached and the optimization hasn't converged yet.\n",
      "  warnings.warn(\n",
      "c:\\Users\\manab\\AppData\\Local\\Programs\\Python\\Python311\\Lib\\site-packages\\sklearn\\neural_network\\_multilayer_perceptron.py:1102: DataConversionWarning: A column-vector y was passed when a 1d array was expected. Please change the shape of y to (n_samples, ), for example using ravel().\n",
      "  y = column_or_1d(y, warn=True)\n",
      "c:\\Users\\manab\\AppData\\Local\\Programs\\Python\\Python311\\Lib\\site-packages\\sklearn\\neural_network\\_multilayer_perceptron.py:691: ConvergenceWarning: Stochastic Optimizer: Maximum iterations (200) reached and the optimization hasn't converged yet.\n",
      "  warnings.warn(\n",
      "c:\\Users\\manab\\AppData\\Local\\Programs\\Python\\Python311\\Lib\\site-packages\\sklearn\\neural_network\\_multilayer_perceptron.py:1102: DataConversionWarning: A column-vector y was passed when a 1d array was expected. Please change the shape of y to (n_samples, ), for example using ravel().\n",
      "  y = column_or_1d(y, warn=True)\n",
      "c:\\Users\\manab\\AppData\\Local\\Programs\\Python\\Python311\\Lib\\site-packages\\sklearn\\neural_network\\_multilayer_perceptron.py:691: ConvergenceWarning: Stochastic Optimizer: Maximum iterations (200) reached and the optimization hasn't converged yet.\n",
      "  warnings.warn(\n",
      "c:\\Users\\manab\\AppData\\Local\\Programs\\Python\\Python311\\Lib\\site-packages\\sklearn\\neural_network\\_multilayer_perceptron.py:1102: DataConversionWarning: A column-vector y was passed when a 1d array was expected. Please change the shape of y to (n_samples, ), for example using ravel().\n",
      "  y = column_or_1d(y, warn=True)\n"
     ]
    },
    {
     "name": "stdout",
     "output_type": "stream",
     "text": [
      "Mean f1: 0.1667394608724285\n"
     ]
    },
    {
     "name": "stderr",
     "output_type": "stream",
     "text": [
      "c:\\Users\\manab\\AppData\\Local\\Programs\\Python\\Python311\\Lib\\site-packages\\sklearn\\neural_network\\_multilayer_perceptron.py:691: ConvergenceWarning: Stochastic Optimizer: Maximum iterations (200) reached and the optimization hasn't converged yet.\n",
      "  warnings.warn(\n"
     ]
    }
   ],
   "source": [
    "# cv = StratifiedKFold(n_splits=5, shuffle=True, random_state=42)\n",
    "\n",
    "# nn = MLPClassifier(random_state=42)\n",
    "\n",
    "# scores = cross_val_score(nn, train, target_binary, cv=cv, scoring='f1')\n",
    "\n",
    "# print('Mean f1:', np.mean(scores))"
   ]
  },
  {
   "cell_type": "code",
   "execution_count": 76,
   "metadata": {},
   "outputs": [],
   "source": [
    "nn_score = 0.1667394608724285"
   ]
  },
  {
   "cell_type": "markdown",
   "metadata": {},
   "source": [
    "### 1.6 SVM"
   ]
  },
  {
   "cell_type": "code",
   "execution_count": 26,
   "metadata": {},
   "outputs": [
    {
     "name": "stderr",
     "output_type": "stream",
     "text": [
      "c:\\Users\\manab\\AppData\\Local\\Programs\\Python\\Python311\\Lib\\site-packages\\sklearn\\utils\\validation.py:1183: DataConversionWarning: A column-vector y was passed when a 1d array was expected. Please change the shape of y to (n_samples, ), for example using ravel().\n",
      "  y = column_or_1d(y, warn=True)\n",
      "c:\\Users\\manab\\AppData\\Local\\Programs\\Python\\Python311\\Lib\\site-packages\\sklearn\\utils\\validation.py:1183: DataConversionWarning: A column-vector y was passed when a 1d array was expected. Please change the shape of y to (n_samples, ), for example using ravel().\n",
      "  y = column_or_1d(y, warn=True)\n",
      "c:\\Users\\manab\\AppData\\Local\\Programs\\Python\\Python311\\Lib\\site-packages\\sklearn\\utils\\validation.py:1183: DataConversionWarning: A column-vector y was passed when a 1d array was expected. Please change the shape of y to (n_samples, ), for example using ravel().\n",
      "  y = column_or_1d(y, warn=True)\n",
      "c:\\Users\\manab\\AppData\\Local\\Programs\\Python\\Python311\\Lib\\site-packages\\sklearn\\utils\\validation.py:1183: DataConversionWarning: A column-vector y was passed when a 1d array was expected. Please change the shape of y to (n_samples, ), for example using ravel().\n",
      "  y = column_or_1d(y, warn=True)\n",
      "c:\\Users\\manab\\AppData\\Local\\Programs\\Python\\Python311\\Lib\\site-packages\\sklearn\\utils\\validation.py:1183: DataConversionWarning: A column-vector y was passed when a 1d array was expected. Please change the shape of y to (n_samples, ), for example using ravel().\n",
      "  y = column_or_1d(y, warn=True)\n"
     ]
    },
    {
     "name": "stdout",
     "output_type": "stream",
     "text": [
      "Mean f1: 0.32726325489529373\n"
     ]
    }
   ],
   "source": [
    "# cv = StratifiedKFold(n_splits=5, shuffle=True, random_state=42)\n",
    "\n",
    "# svm = SVC(class_weight='balanced', random_state=42)\n",
    "\n",
    "# scores = cross_val_score(svm, train, target_binary, cv=5, scoring='f1')\n",
    "\n",
    "# print('Mean f1:', np.mean(scores))"
   ]
  },
  {
   "cell_type": "code",
   "execution_count": 77,
   "metadata": {},
   "outputs": [],
   "source": [
    "svm_score = 0.32726325489529373"
   ]
  },
  {
   "cell_type": "markdown",
   "metadata": {},
   "source": [
    "## 1.7 Ensembles"
   ]
  },
  {
   "cell_type": "markdown",
   "metadata": {},
   "source": [
    "### 1.7.1 Random Forest"
   ]
  },
  {
   "cell_type": "code",
   "execution_count": 14,
   "metadata": {},
   "outputs": [
    {
     "name": "stderr",
     "output_type": "stream",
     "text": [
      "c:\\Users\\manab\\AppData\\Local\\Programs\\Python\\Python311\\Lib\\site-packages\\sklearn\\base.py:1152: DataConversionWarning: A column-vector y was passed when a 1d array was expected. Please change the shape of y to (n_samples,), for example using ravel().\n",
      "  return fit_method(estimator, *args, **kwargs)\n"
     ]
    },
    {
     "name": "stdout",
     "output_type": "stream",
     "text": [
      "Best hyperparameters:\n",
      "{'n_estimators': 200, 'min_samples_split': 2, 'min_samples_leaf': 2, 'max_features': 'sqrt', 'max_depth': 10, 'criterion': 'gini', 'bootstrap': True}\n",
      "Best F1 score:\n",
      "0.3304634692524382\n"
     ]
    }
   ],
   "source": [
    "# rf_classifier = RandomForestClassifier(class_weight='balanced', n_jobs=-1, random_state=42)\n",
    "# param_grid = {\n",
    "#     'n_estimators': [50, 100, 150, 200],\n",
    "#     'max_depth': [None, 10, 20, 30],\n",
    "#     'min_samples_split': [2, 5, 10],\n",
    "#     'min_samples_leaf': [1, 2, 4],\n",
    "#     'bootstrap': [True, False],\n",
    "#     'max_features': ['sqrt', 'log2'],\n",
    "#     'criterion': ['gini', 'entropy']\n",
    "# }\n",
    "\n",
    "# rf_score = get_best_params(rf_classifier, param_grid, train, target_binary)"
   ]
  },
  {
   "cell_type": "code",
   "execution_count": 9,
   "metadata": {},
   "outputs": [
    {
     "name": "stderr",
     "output_type": "stream",
     "text": [
      "c:\\Users\\manab\\AppData\\Local\\Programs\\Python\\Python311\\Lib\\site-packages\\sklearn\\base.py:1152: DataConversionWarning: A column-vector y was passed when a 1d array was expected. Please change the shape of y to (n_samples,), for example using ravel().\n",
      "  return fit_method(estimator, *args, **kwargs)\n"
     ]
    }
   ],
   "source": [
    "rf_classifier = RandomForestClassifier(class_weight='balanced', n_jobs=-1, random_state=42, n_estimators=200, min_samples_split=2, min_samples_leaf=2, max_depth=10, bootstrap=True, max_features='sqrt', criterion='gini')"
   ]
  },
  {
   "cell_type": "code",
   "execution_count": 29,
   "metadata": {},
   "outputs": [],
   "source": [
    "# rf_classifier = RandomForestClassifier(class_weight='balanced', n_jobs=-1, random_state=42, n_estimators=100, min_samples_split=10, min_samples_leaf=1, max_depth=10, bootstrap=True)\n",
    "# rf_classifier.fit(train, target_binary)\n",
    "\n",
    "# preds = rf_classifier.predict(test_cleaned)\n",
    "# preds = np.where(preds == 1, 'Yes', 'No')\n",
    "# submission = pd.DataFrame({'encounter_id': test_cleaned.index, 'readmitted_binary': preds}).to_csv('submissions/submission_model_new_5.csv', index=False)"
   ]
  },
  {
   "cell_type": "markdown",
   "metadata": {},
   "source": [
    "### 1.7.2 Bagging DT"
   ]
  },
  {
   "cell_type": "code",
   "execution_count": 41,
   "metadata": {},
   "outputs": [
    {
     "name": "stderr",
     "output_type": "stream",
     "text": [
      "c:\\Users\\manab\\AppData\\Local\\Programs\\Python\\Python311\\Lib\\site-packages\\sklearn\\ensemble\\_bagging.py:802: DataConversionWarning: A column-vector y was passed when a 1d array was expected. Please change the shape of y to (n_samples, ), for example using ravel().\n",
      "  y = column_or_1d(y, warn=True)\n"
     ]
    },
    {
     "name": "stdout",
     "output_type": "stream",
     "text": [
      "Best hyperparameters:\n",
      "{'n_estimators': 200, 'max_samples': 0.8, 'max_features': 1.0, 'bootstrap': True}\n",
      "Best F1 score:\n",
      "0.3213542231619495\n"
     ]
    }
   ],
   "source": [
    "# bagging_dt = BaggingClassifier(estimator = dtc)\n",
    "\n",
    "\n",
    "# param_grid = {\n",
    "#     'n_estimators':[10,50,100,200], \n",
    "#     'max_samples': [0.2, 0.5, 0.7, 0.8, 1.0],\n",
    "#     'max_features': [0.2, 0.5, 0.7, 0.8, 1.0],  \n",
    "#     'bootstrap': [True, False]\n",
    "# }\n",
    "\n",
    "# dt_bagging_score = get_best_params(bagging_dt, param_grid, train, target_binary)\n"
   ]
  },
  {
   "cell_type": "markdown",
   "metadata": {},
   "source": [
    "Since the best number os max_features is not <1.0 (in bagging we are using all features in a subset), we are not repeating random forest so, we can say that using decision tree with bagging improves the score."
   ]
  },
  {
   "cell_type": "markdown",
   "metadata": {},
   "source": [
    "### 1.7.3 Bagging Logistic Regression"
   ]
  },
  {
   "cell_type": "code",
   "execution_count": 32,
   "metadata": {},
   "outputs": [
    {
     "name": "stderr",
     "output_type": "stream",
     "text": [
      "c:\\Users\\manab\\AppData\\Local\\Programs\\Python\\Python311\\Lib\\site-packages\\sklearn\\ensemble\\_bagging.py:802: DataConversionWarning: A column-vector y was passed when a 1d array was expected. Please change the shape of y to (n_samples, ), for example using ravel().\n",
      "  y = column_or_1d(y, warn=True)\n",
      "c:\\Users\\manab\\AppData\\Local\\Programs\\Python\\Python311\\Lib\\site-packages\\sklearn\\ensemble\\_bagging.py:802: DataConversionWarning: A column-vector y was passed when a 1d array was expected. Please change the shape of y to (n_samples, ), for example using ravel().\n",
      "  y = column_or_1d(y, warn=True)\n",
      "c:\\Users\\manab\\AppData\\Local\\Programs\\Python\\Python311\\Lib\\site-packages\\sklearn\\ensemble\\_bagging.py:802: DataConversionWarning: A column-vector y was passed when a 1d array was expected. Please change the shape of y to (n_samples, ), for example using ravel().\n",
      "  y = column_or_1d(y, warn=True)\n",
      "c:\\Users\\manab\\AppData\\Local\\Programs\\Python\\Python311\\Lib\\site-packages\\sklearn\\ensemble\\_bagging.py:802: DataConversionWarning: A column-vector y was passed when a 1d array was expected. Please change the shape of y to (n_samples, ), for example using ravel().\n",
      "  y = column_or_1d(y, warn=True)\n",
      "c:\\Users\\manab\\AppData\\Local\\Programs\\Python\\Python311\\Lib\\site-packages\\sklearn\\ensemble\\_bagging.py:802: DataConversionWarning: A column-vector y was passed when a 1d array was expected. Please change the shape of y to (n_samples, ), for example using ravel().\n",
      "  y = column_or_1d(y, warn=True)\n"
     ]
    },
    {
     "name": "stdout",
     "output_type": "stream",
     "text": [
      "Mean f1: 0.3254447768300698\n"
     ]
    }
   ],
   "source": [
    "# cv = StratifiedKFold(n_splits=5, shuffle=True, random_state=42)\n",
    "\n",
    "# bagging_logreg = BaggingClassifier(estimator = logr, n_jobs = -1)\n",
    "\n",
    "# scores_lr_bagging = cross_val_score(bagging_logreg, train, target_binary, cv=5, scoring='f1')\n",
    "\n",
    "# print('Mean f1:', np.mean(scores_lr_bagging))"
   ]
  },
  {
   "cell_type": "code",
   "execution_count": 85,
   "metadata": {},
   "outputs": [],
   "source": [
    "# lr_bagging_score = np.mean(scores_lr_bagging)"
   ]
  },
  {
   "cell_type": "markdown",
   "metadata": {},
   "source": [
    "### 1.7.4 Bagging Naive Bayes"
   ]
  },
  {
   "cell_type": "code",
   "execution_count": 44,
   "metadata": {},
   "outputs": [
    {
     "name": "stderr",
     "output_type": "stream",
     "text": [
      "c:\\Users\\manab\\AppData\\Local\\Programs\\Python\\Python311\\Lib\\site-packages\\sklearn\\ensemble\\_bagging.py:802: DataConversionWarning: A column-vector y was passed when a 1d array was expected. Please change the shape of y to (n_samples, ), for example using ravel().\n",
      "  y = column_or_1d(y, warn=True)\n"
     ]
    },
    {
     "name": "stdout",
     "output_type": "stream",
     "text": [
      "Best hyperparameters:\n",
      "{'n_estimators': 50, 'max_samples': 0.7, 'max_features': 0.8, 'bootstrap': True}\n",
      "Best F1 score:\n",
      "0.3005011511251544\n"
     ]
    }
   ],
   "source": [
    "# bagging_nb= BaggingClassifier(estimator = bernoulli)\n",
    "\n",
    "\n",
    "# param_grid = {\n",
    "#     'n_estimators':[10,50,100,200], \n",
    "#     'max_samples': [0.2, 0.5, 0.7, 0.8, 1.0],\n",
    "#     'max_features': [0.2, 0.5, 0.7, 0.8, 1.0],  \n",
    "#     'bootstrap': [True, False]\n",
    "# }\n",
    "\n",
    "\n",
    "# nb_bagging_score = get_best_params(bagging_nb, param_grid, train, target_binary)"
   ]
  },
  {
   "cell_type": "markdown",
   "metadata": {},
   "source": [
    "### 1.7.5 Adaboost Decision Tree"
   ]
  },
  {
   "cell_type": "code",
   "execution_count": 71,
   "metadata": {},
   "outputs": [
    {
     "name": "stderr",
     "output_type": "stream",
     "text": [
      "c:\\Users\\manab\\AppData\\Local\\Programs\\Python\\Python311\\Lib\\site-packages\\sklearn\\utils\\validation.py:1183: DataConversionWarning: A column-vector y was passed when a 1d array was expected. Please change the shape of y to (n_samples, ), for example using ravel().\n",
      "  y = column_or_1d(y, warn=True)\n"
     ]
    },
    {
     "name": "stdout",
     "output_type": "stream",
     "text": [
      "Best hyperparameters:\n",
      "{'n_estimators': 10, 'learning_rate': 0.5, 'algorithm': 'SAMME.R'}\n",
      "Best F1 score:\n",
      "0.32414404194146595\n"
     ]
    }
   ],
   "source": [
    "# adaboost_dtc = AdaBoostClassifier(estimator = dtc, random_state=42)\n",
    "\n",
    "\n",
    "# param_grid = {\n",
    "#     'n_estimators': [10, 50, 100, 200],\n",
    "#     'learning_rate': [0.01, 0.1, 0.5, 1.0],\n",
    "#     'algorithm': ['SAMME', 'SAMME.R']\n",
    "# }\n",
    "\n",
    "# dtc_adaboost_score = get_best_params(adaboost_dtc, param_grid, train, target_binary)\n",
    "\n"
   ]
  },
  {
   "cell_type": "code",
   "execution_count": 35,
   "metadata": {},
   "outputs": [],
   "source": [
    "# dtc_adaboost = AdaBoostClassifier(estimator = dtc, random_state=42, n_estimators=10, learning_rate=0.5, algorithm='SAMME.R')\n"
   ]
  },
  {
   "cell_type": "markdown",
   "metadata": {},
   "source": [
    "### 1.7.6 Adaboost Logistic Regression"
   ]
  },
  {
   "cell_type": "code",
   "execution_count": 37,
   "metadata": {},
   "outputs": [
    {
     "name": "stderr",
     "output_type": "stream",
     "text": [
      "c:\\Users\\manab\\AppData\\Local\\Programs\\Python\\Python311\\Lib\\site-packages\\sklearn\\utils\\validation.py:1183: DataConversionWarning: A column-vector y was passed when a 1d array was expected. Please change the shape of y to (n_samples, ), for example using ravel().\n",
      "  y = column_or_1d(y, warn=True)\n",
      "c:\\Users\\manab\\AppData\\Local\\Programs\\Python\\Python311\\Lib\\site-packages\\sklearn\\ensemble\\_base.py:156: FutureWarning: `base_estimator` was renamed to `estimator` in version 1.2 and will be removed in 1.4.\n",
      "  warnings.warn(\n",
      "c:\\Users\\manab\\AppData\\Local\\Programs\\Python\\Python311\\Lib\\site-packages\\sklearn\\utils\\validation.py:1183: DataConversionWarning: A column-vector y was passed when a 1d array was expected. Please change the shape of y to (n_samples, ), for example using ravel().\n",
      "  y = column_or_1d(y, warn=True)\n",
      "c:\\Users\\manab\\AppData\\Local\\Programs\\Python\\Python311\\Lib\\site-packages\\sklearn\\ensemble\\_base.py:156: FutureWarning: `base_estimator` was renamed to `estimator` in version 1.2 and will be removed in 1.4.\n",
      "  warnings.warn(\n",
      "c:\\Users\\manab\\AppData\\Local\\Programs\\Python\\Python311\\Lib\\site-packages\\sklearn\\utils\\validation.py:1183: DataConversionWarning: A column-vector y was passed when a 1d array was expected. Please change the shape of y to (n_samples, ), for example using ravel().\n",
      "  y = column_or_1d(y, warn=True)\n",
      "c:\\Users\\manab\\AppData\\Local\\Programs\\Python\\Python311\\Lib\\site-packages\\sklearn\\ensemble\\_base.py:156: FutureWarning: `base_estimator` was renamed to `estimator` in version 1.2 and will be removed in 1.4.\n",
      "  warnings.warn(\n",
      "c:\\Users\\manab\\AppData\\Local\\Programs\\Python\\Python311\\Lib\\site-packages\\sklearn\\utils\\validation.py:1183: DataConversionWarning: A column-vector y was passed when a 1d array was expected. Please change the shape of y to (n_samples, ), for example using ravel().\n",
      "  y = column_or_1d(y, warn=True)\n",
      "c:\\Users\\manab\\AppData\\Local\\Programs\\Python\\Python311\\Lib\\site-packages\\sklearn\\ensemble\\_base.py:156: FutureWarning: `base_estimator` was renamed to `estimator` in version 1.2 and will be removed in 1.4.\n",
      "  warnings.warn(\n",
      "c:\\Users\\manab\\AppData\\Local\\Programs\\Python\\Python311\\Lib\\site-packages\\sklearn\\utils\\validation.py:1183: DataConversionWarning: A column-vector y was passed when a 1d array was expected. Please change the shape of y to (n_samples, ), for example using ravel().\n",
      "  y = column_or_1d(y, warn=True)\n",
      "c:\\Users\\manab\\AppData\\Local\\Programs\\Python\\Python311\\Lib\\site-packages\\sklearn\\ensemble\\_base.py:156: FutureWarning: `base_estimator` was renamed to `estimator` in version 1.2 and will be removed in 1.4.\n",
      "  warnings.warn(\n"
     ]
    },
    {
     "name": "stdout",
     "output_type": "stream",
     "text": [
      "0.1606466279363476\n"
     ]
    }
   ],
   "source": [
    "# cv = StratifiedKFold(n_splits=5, shuffle=True, random_state=42)\n",
    "\n",
    "# adaboost_logreg = AdaBoostClassifier(base_estimator=logr, random_state=42)\n",
    "\n",
    "# scores_lr_adaboost = cross_val_score(adaboost_logreg, train, target_binary, cv=5, scoring='f1')\n",
    "\n",
    "# print(np.mean(scores_lr_adaboost))"
   ]
  },
  {
   "cell_type": "code",
   "execution_count": 87,
   "metadata": {},
   "outputs": [],
   "source": [
    "# adaboost_lr_score = np.mean(scores_lr_adaboost)"
   ]
  },
  {
   "cell_type": "markdown",
   "metadata": {},
   "source": [
    "### 1.7.7 Adaboost Naive Bayes"
   ]
  },
  {
   "cell_type": "code",
   "execution_count": 38,
   "metadata": {},
   "outputs": [
    {
     "name": "stderr",
     "output_type": "stream",
     "text": [
      "c:\\Users\\manab\\AppData\\Local\\Programs\\Python\\Python311\\Lib\\site-packages\\sklearn\\utils\\validation.py:1183: DataConversionWarning: A column-vector y was passed when a 1d array was expected. Please change the shape of y to (n_samples, ), for example using ravel().\n",
      "  y = column_or_1d(y, warn=True)\n"
     ]
    },
    {
     "name": "stdout",
     "output_type": "stream",
     "text": [
      "Best hyperparameters:\n",
      "{'n_estimators': 100, 'learning_rate': 1.0, 'algorithm': 'SAMME.R'}\n",
      "Best F1 score:\n",
      "0.2531561350497905\n"
     ]
    }
   ],
   "source": [
    "# adaboost_nb = AdaBoostClassifier(estimator = bernoulli)\n",
    "\n",
    "\n",
    "# param_grid = {\n",
    "#     'n_estimators': [10, 50, 100, 200],\n",
    "#     'learning_rate': [0.01, 0.1, 0.5, 1.0],\n",
    "#     'algorithm': ['SAMME', 'SAMME.R']\n",
    "# }\n",
    "\n",
    "# nb_adaboost_score = get_best_params(adaboost_nb, param_grid, train, target_binary)"
   ]
  },
  {
   "cell_type": "markdown",
   "metadata": {},
   "source": [
    "### 1.7.8 Gradient Boosting"
   ]
  },
  {
   "cell_type": "code",
   "execution_count": 39,
   "metadata": {},
   "outputs": [
    {
     "name": "stderr",
     "output_type": "stream",
     "text": [
      "c:\\Users\\manab\\AppData\\Local\\Programs\\Python\\Python311\\Lib\\site-packages\\sklearn\\ensemble\\_gb.py:424: DataConversionWarning: A column-vector y was passed when a 1d array was expected. Please change the shape of y to (n_samples, ), for example using ravel().\n",
      "  y = column_or_1d(y, warn=True)\n"
     ]
    },
    {
     "name": "stdout",
     "output_type": "stream",
     "text": [
      "Best hyperparameters:\n",
      "{'subsample': 0.8, 'n_estimators': 10, 'max_features': None, 'max_depth': 20, 'learning_rate': 1.0}\n",
      "Best F1 score:\n",
      "0.2067469323323404\n"
     ]
    }
   ],
   "source": [
    "# gbm = GradientBoostingClassifier(random_state=42)\n",
    "\n",
    "# param_grid = {\n",
    "#     'n_estimators': [10, 50, 100, 200],\n",
    "#     'learning_rate': [0.01, 0.1, 0.5, 1.0],\n",
    "#     'subsample': [0.2, 0.5, 0.7, 0.8, 1.0],\n",
    "#     'max_depth': [3, 5, 10, 20, 30],\n",
    "#     'max_features': ['sqrt', 'log2', None]\n",
    "# }\n",
    "\n",
    "# gbm_score = get_best_params(gbm, param_grid, train, target_binary)"
   ]
  },
  {
   "cell_type": "code",
   "execution_count": 40,
   "metadata": {},
   "outputs": [],
   "source": [
    "# gbm = GradientBoostingClassifier(random_state=42, subsample=0.8, n_estimators = 10, max_features=None, max_depth=20, learning_rate=1.0)\n"
   ]
  },
  {
   "cell_type": "markdown",
   "metadata": {},
   "source": [
    "### 1.8 Model Selection Binary Problem"
   ]
  },
  {
   "cell_type": "code",
   "execution_count": 92,
   "metadata": {},
   "outputs": [],
   "source": [
    "# dtc_scores = [dtc_score, dt_bagging_score, dtc_adaboost_score]\n",
    "# naive_bayes_scores = [bernoulli_score, nb_bagging_score, nb_adaboost_score]\n",
    "# logistic_regression_scores = [lr_score, lr_bagging_score, adaboost_lr_score]"
   ]
  },
  {
   "cell_type": "code",
   "execution_count": 93,
   "metadata": {},
   "outputs": [
    {
     "data": {
      "image/png": "[encoded data removed]",
      "text/plain": [
       "<Figure size 1200x800 with 1 Axes>"
      ]
     },
     "metadata": {},
     "output_type": "display_data"
    }
   ],
   "source": [
    "# data = {\n",
    "#     'Algorithm': ['Decision Tree'] * 3 + ['Naive Bayes'] * 3 + ['Logistic Regression'] * 3,\n",
    "#     'Score': dtc_scores + naive_bayes_scores + logistic_regression_scores,\n",
    "#     'Type': ['Normal', 'Bagging', 'AdaBoost'] * 3\n",
    "# }\n",
    "\n",
    "# sns.set_theme(style=\"whitegrid\")\n",
    "# plt.figure(figsize=(12, 8)) \n",
    "# g = sns.barplot(x='Algorithm', y='Score', hue='Type', data=pd.DataFrame(data))\n",
    "# g.set_xlabel(\"\")\n",
    "# g.set_ylabel(\"Score\")\n",
    "# plt.title('Comparison of scores between normal and with ensemble algorithms')\n",
    "# plt.legend(title='Algorithm')\n",
    "# plt.show()"
   ]
  },
  {
   "cell_type": "markdown",
   "metadata": {},
   "source": [
    "Best ones: <br> Decision Tree with Adaboost <br> Naive Bayes with Bagging <br> Logistic Regression with Bagging"
   ]
  },
  {
   "cell_type": "code",
   "execution_count": 95,
   "metadata": {},
   "outputs": [
    {
     "data": {
      "image/png": "[encoded data removed]",
      "text/plain": [
       "<Figure size 1200x800 with 1 Axes>"
      ]
     },
     "metadata": {},
     "output_type": "display_data"
    }
   ],
   "source": [
    "# data = {\n",
    "#     'Algorithm': ['Adaboost Decision Tree', 'Bagging w Naive Bayes', 'Bagging w Logistic Regression', 'KNN', 'Random Forest', 'Gradient Boosting', 'Neural Network(default)', 'SVM(default)'],\n",
    "#     'Score': [dtc_adaboost_score, nb_bagging_score, lr_bagging_score, knn_score, rf_score, gbm_score, nn_score, svm_score],\n",
    "# }\n",
    "\n",
    "# df = pd.DataFrame(data)\n",
    "# df = df.sort_values(by='Score')\n",
    "\n",
    "# sns.set_theme(style=\"whitegrid\")\n",
    "# plt.figure(figsize=(12, 8)) \n",
    "# g = sns.barplot(x='Algorithm', y='Score', data=df)\n",
    "# g.set_xlabel(\"\")\n",
    "# plt.xticks(rotation=45)\n",
    "# g.set_ylabel(\"Score\")\n",
    "# plt.title('Comparison of scores between algorithms')\n",
    "# plt.show()"
   ]
  },
  {
   "cell_type": "markdown",
   "metadata": {},
   "source": [
    "### 1.9 Final Model (Binary):"
   ]
  },
  {
   "cell_type": "code",
   "execution_count": 10,
   "metadata": {},
   "outputs": [],
   "source": [
    "rf_final = RandomForestClassifier(class_weight='balanced', n_jobs=-1, random_state=42, n_estimators=200, min_samples_split=2, min_samples_leaf=2, max_depth=10, bootstrap=True)"
   ]
  },
  {
   "cell_type": "code",
   "execution_count": 11,
   "metadata": {},
   "outputs": [
    {
     "name": "stderr",
     "output_type": "stream",
     "text": [
      "c:\\Users\\manab\\AppData\\Local\\Programs\\Python\\Python311\\Lib\\site-packages\\sklearn\\base.py:1152: DataConversionWarning: A column-vector y was passed when a 1d array was expected. Please change the shape of y to (n_samples,), for example using ravel().\n",
      "  return fit_method(estimator, *args, **kwargs)\n",
      "c:\\Users\\manab\\AppData\\Local\\Programs\\Python\\Python311\\Lib\\site-packages\\sklearn\\base.py:1152: DataConversionWarning: A column-vector y was passed when a 1d array was expected. Please change the shape of y to (n_samples,), for example using ravel().\n",
      "  return fit_method(estimator, *args, **kwargs)\n",
      "c:\\Users\\manab\\AppData\\Local\\Programs\\Python\\Python311\\Lib\\site-packages\\sklearn\\base.py:1152: DataConversionWarning: A column-vector y was passed when a 1d array was expected. Please change the shape of y to (n_samples,), for example using ravel().\n",
      "  return fit_method(estimator, *args, **kwargs)\n",
      "c:\\Users\\manab\\AppData\\Local\\Programs\\Python\\Python311\\Lib\\site-packages\\sklearn\\base.py:1152: DataConversionWarning: A column-vector y was passed when a 1d array was expected. Please change the shape of y to (n_samples,), for example using ravel().\n",
      "  return fit_method(estimator, *args, **kwargs)\n",
      "c:\\Users\\manab\\AppData\\Local\\Programs\\Python\\Python311\\Lib\\site-packages\\sklearn\\base.py:1152: DataConversionWarning: A column-vector y was passed when a 1d array was expected. Please change the shape of y to (n_samples,), for example using ravel().\n",
      "  return fit_method(estimator, *args, **kwargs)\n"
     ]
    }
   ],
   "source": [
    "cv = StratifiedKFold(n_splits=5, shuffle=True, random_state=42)\n",
    "y_pred = cross_val_predict(rf_final, train, target_binary, cv=cv)\n",
    "conf_matrix = confusion_matrix(target_binary, y_pred)\n",
    "precision = precision_score(target_binary, y_pred)\n",
    "recall = recall_score(target_binary, y_pred)"
   ]
  },
  {
   "cell_type": "code",
   "execution_count": 12,
   "metadata": {},
   "outputs": [
    {
     "data": {
      "text/plain": [
       "0.21388805296418897"
      ]
     },
     "execution_count": 12,
     "metadata": {},
     "output_type": "execute_result"
    }
   ],
   "source": [
    "precision"
   ]
  },
  {
   "cell_type": "code",
   "execution_count": 13,
   "metadata": {},
   "outputs": [
    {
     "data": {
      "text/plain": [
       "0.7152201257861636"
      ]
     },
     "execution_count": 13,
     "metadata": {},
     "output_type": "execute_result"
    }
   ],
   "source": [
    "recall"
   ]
  },
  {
   "cell_type": "code",
   "execution_count": 18,
   "metadata": {},
   "outputs": [
    {
     "data": {
      "text/plain": [
       "array([[42383, 20898],\n",
       "       [ 2264,  5686]], dtype=int64)"
      ]
     },
     "execution_count": 18,
     "metadata": {},
     "output_type": "execute_result"
    }
   ],
   "source": [
    "conf_matrix"
   ]
  },
  {
   "cell_type": "markdown",
   "metadata": {},
   "source": [
    "# 2. Multiclass Classification"
   ]
  },
  {
   "cell_type": "markdown",
   "metadata": {},
   "source": [
    "### 2.1 Decision Tree M"
   ]
  },
  {
   "cell_type": "code",
   "execution_count": 20,
   "metadata": {},
   "outputs": [
    {
     "name": "stdout",
     "output_type": "stream",
     "text": [
      "Best hyperparameters:\n",
      "{'min_samples_split': 15, 'min_samples_leaf': 2, 'min_impurity_decrease': 0.0, 'max_leaf_nodes': 20, 'max_features': 'sqrt', 'max_depth': 10, 'criterion': 'entropy'}\n",
      "Best weighted F1 score:\n",
      "0.5344795671430699\n"
     ]
    }
   ],
   "source": [
    "# dtc_m = DecisionTreeClassifier(class_weight='balanced', random_state=42)\n",
    "\n",
    "# param_grid = {\n",
    "#     'criterion': ['gini', 'entropy'],\n",
    "#     'max_depth': [None, 7, 10, 20, 30],\n",
    "#     'min_samples_split': [2, 5, 10, 15],\n",
    "#     'min_samples_leaf': [1, 2, 4],\n",
    "#     'max_features': ['sqrt', 'log2', None],\n",
    "#     'max_leaf_nodes': [None, 5, 10, 20, 30],\n",
    "#     'min_impurity_decrease': [0.0, 0.1, 0.2, 0.3]\n",
    "# }\n",
    "\n",
    "# dt_score_multiclass = get_best_params_multiclass(dtc_m, param_grid, train, target_multiclass)"
   ]
  },
  {
   "cell_type": "code",
   "execution_count": 21,
   "metadata": {},
   "outputs": [],
   "source": [
    "dtc_m = DecisionTreeClassifier(class_weight='balanced', random_state=42, min_samples_split=15, min_samples_leaf=2, max_leaf_nodes=20, max_features='sqrt', max_depth=10, criterion='entropy')"
   ]
  },
  {
   "cell_type": "markdown",
   "metadata": {},
   "source": [
    "### 2.2 Logistic Regression M"
   ]
  },
  {
   "cell_type": "code",
   "execution_count": 47,
   "metadata": {},
   "outputs": [
    {
     "name": "stderr",
     "output_type": "stream",
     "text": [
      "c:\\Users\\manab\\AppData\\Local\\Programs\\Python\\Python311\\Lib\\site-packages\\sklearn\\linear_model\\_logistic.py:1223: UserWarning: 'n_jobs' > 1 does not have any effect when 'solver' is set to 'liblinear'. Got 'n_jobs' = 8.\n",
      "  warnings.warn(\n"
     ]
    },
    {
     "name": "stdout",
     "output_type": "stream",
     "text": [
      "Best hyperparameters:\n",
      "{'solver': 'liblinear', 'penalty': 'l1', 'C': 100}\n",
      "Best weighted F1 score:\n",
      "0.6247117036439249\n"
     ]
    }
   ],
   "source": [
    "# logr_m = LogisticRegression(class_weight='balanced', random_state=42, n_jobs=-1)\n",
    "# param_grid = {\n",
    "#     'penalty': ['l1', 'l2'],\n",
    "#     'C': [0.01, 0.1, 1, 10, 100],\n",
    "#     'solver': ['liblinear', 'saga']\n",
    "# }\n",
    "\n",
    "# lr_score_multiclass = get_best_params_multiclass(logr_m, param_grid, train, target_multiclass)"
   ]
  },
  {
   "cell_type": "code",
   "execution_count": 48,
   "metadata": {},
   "outputs": [],
   "source": [
    "logr_m = LogisticRegression(class_weight='balanced', random_state=42, n_jobs=-1, solver='liblinear', penalty='l1', C=100)"
   ]
  },
  {
   "cell_type": "markdown",
   "metadata": {},
   "source": [
    "### 2.3 KNN M"
   ]
  },
  {
   "cell_type": "code",
   "execution_count": 49,
   "metadata": {},
   "outputs": [
    {
     "name": "stdout",
     "output_type": "stream",
     "text": [
      "Best hyperparameters:\n",
      "{'weights': 'distance', 'n_neighbors': 20, 'metric': 'manhattan', 'leaf_size': 40, 'algorithm': 'kd_tree'}\n",
      "Best weighted F1 score:\n",
      "0.5962341046621071\n"
     ]
    }
   ],
   "source": [
    "# knn_m = KNeighborsClassifier(n_jobs=-1)\n",
    "\n",
    "# param_grid = {\n",
    "#     'metric': ['euclidean', 'manhattan'],\n",
    "#     'n_neighbors': [3, 5, 10, 20],\n",
    "#     'weights': ['uniform', 'distance'],\n",
    "#     'algorithm': ['auto', 'kd_tree', 'brute'],\n",
    "#     'leaf_size': [10, 20, 30, 40, 50]\n",
    "# }\n",
    "\n",
    "\n",
    "# knn_score_multiclass = get_best_params_multiclass(knn_m, param_grid, train, target_multiclass)"
   ]
  },
  {
   "cell_type": "code",
   "execution_count": 50,
   "metadata": {},
   "outputs": [],
   "source": [
    "knn_m = KNeighborsClassifier(n_jobs=-1, weights='uniform', n_neighbors=20, metric='euclidean', leaf_size=10, algorithm='kd_tree')"
   ]
  },
  {
   "cell_type": "markdown",
   "metadata": {},
   "source": [
    "### 2.4 Naive Bayes M"
   ]
  },
  {
   "cell_type": "code",
   "execution_count": 51,
   "metadata": {},
   "outputs": [
    {
     "name": "stderr",
     "output_type": "stream",
     "text": [
      "c:\\Users\\manab\\AppData\\Local\\Programs\\Python\\Python311\\Lib\\site-packages\\sklearn\\model_selection\\_search.py:307: UserWarning: The total space of parameters 3 is smaller than n_iter=10. Running 3 iterations. For exhaustive searches, use GridSearchCV.\n",
      "  warnings.warn(\n"
     ]
    },
    {
     "name": "stdout",
     "output_type": "stream",
     "text": [
      "Best hyperparameters:\n",
      "{'alpha': 1.0}\n",
      "Best weighted F1 score:\n",
      "0.6127559251619498\n"
     ]
    }
   ],
   "source": [
    "# bernoulli_mult = BernoulliNB()\n",
    "\n",
    "# param_grid = {\n",
    "#     'alpha': [0.01, 0.1, 1.0]\n",
    "# }\n",
    "# bern_score_multiclass = get_best_params_multiclass(bernoulli_mult, param_grid, train, target_multiclass)"
   ]
  },
  {
   "cell_type": "code",
   "execution_count": null,
   "metadata": {},
   "outputs": [],
   "source": [
    "bernoulli_mult = BernoulliNB(alpha=1.0)"
   ]
  },
  {
   "cell_type": "markdown",
   "metadata": {},
   "source": [
    "alpha = 1.0 (Default)"
   ]
  },
  {
   "cell_type": "markdown",
   "metadata": {},
   "source": [
    "### 2.5 Neural Networks M"
   ]
  },
  {
   "cell_type": "code",
   "execution_count": 53,
   "metadata": {},
   "outputs": [
    {
     "name": "stderr",
     "output_type": "stream",
     "text": [
      "c:\\Users\\manab\\AppData\\Local\\Programs\\Python\\Python311\\Lib\\site-packages\\sklearn\\neural_network\\_multilayer_perceptron.py:691: ConvergenceWarning: Stochastic Optimizer: Maximum iterations (200) reached and the optimization hasn't converged yet.\n",
      "  warnings.warn(\n",
      "c:\\Users\\manab\\AppData\\Local\\Programs\\Python\\Python311\\Lib\\site-packages\\sklearn\\neural_network\\_multilayer_perceptron.py:691: ConvergenceWarning: Stochastic Optimizer: Maximum iterations (200) reached and the optimization hasn't converged yet.\n",
      "  warnings.warn(\n",
      "c:\\Users\\manab\\AppData\\Local\\Programs\\Python\\Python311\\Lib\\site-packages\\sklearn\\neural_network\\_multilayer_perceptron.py:691: ConvergenceWarning: Stochastic Optimizer: Maximum iterations (200) reached and the optimization hasn't converged yet.\n",
      "  warnings.warn(\n"
     ]
    },
    {
     "name": "stdout",
     "output_type": "stream",
     "text": [
      "Mean f1: 0.640740348142153\n"
     ]
    },
    {
     "name": "stderr",
     "output_type": "stream",
     "text": [
      "c:\\Users\\manab\\AppData\\Local\\Programs\\Python\\Python311\\Lib\\site-packages\\sklearn\\neural_network\\_multilayer_perceptron.py:691: ConvergenceWarning: Stochastic Optimizer: Maximum iterations (200) reached and the optimization hasn't converged yet.\n",
      "  warnings.warn(\n"
     ]
    }
   ],
   "source": [
    "# cv = StratifiedKFold(n_splits=5, shuffle=True, random_state=42)\n",
    "\n",
    "# nn = MLPClassifier(random_state=42)\n",
    "\n",
    "# scores = cross_val_score(nn, train, target_multiclass, cv=cv, scoring='f1_weighted')\n",
    "\n",
    "# print('Mean f1:', np.mean(scores))"
   ]
  },
  {
   "cell_type": "code",
   "execution_count": 97,
   "metadata": {},
   "outputs": [],
   "source": [
    "score_nn_m = 0.640740348142153"
   ]
  },
  {
   "cell_type": "markdown",
   "metadata": {},
   "source": [
    "### 2.6 SVM M"
   ]
  },
  {
   "cell_type": "code",
   "execution_count": 55,
   "metadata": {},
   "outputs": [
    {
     "name": "stdout",
     "output_type": "stream",
     "text": [
      "Mean f1: 0.6203308185419651\n"
     ]
    }
   ],
   "source": [
    "# cv = StratifiedKFold(n_splits=5, shuffle=True, random_state=42)\n",
    "\n",
    "# svm = SVC(class_weight='balanced', random_state=42)\n",
    "\n",
    "# scores_m = cross_val_score(svm, train, target_multiclass, cv=5, scoring='f1_weighted')\n",
    "\n",
    "# print('Mean f1:', np.mean(scores_m))"
   ]
  },
  {
   "cell_type": "code",
   "execution_count": 96,
   "metadata": {},
   "outputs": [],
   "source": [
    "svm_score_m = 0.6203308185419651"
   ]
  },
  {
   "cell_type": "markdown",
   "metadata": {},
   "source": [
    "## 2.7 Ensembles M"
   ]
  },
  {
   "cell_type": "markdown",
   "metadata": {},
   "source": [
    "### 2.7.1 Random Forest M"
   ]
  },
  {
   "cell_type": "code",
   "execution_count": 56,
   "metadata": {},
   "outputs": [
    {
     "name": "stdout",
     "output_type": "stream",
     "text": [
      "Best hyperparameters:\n",
      "{'n_estimators': 150, 'min_samples_split': 10, 'min_samples_leaf': 1, 'max_features': 'log2', 'max_depth': 30, 'criterion': 'entropy', 'bootstrap': False}\n",
      "Best weighted F1 score:\n",
      "0.6541470957902802\n"
     ]
    }
   ],
   "source": [
    "# rf_classifier_m = RandomForestClassifier(class_weight='balanced', n_jobs=-1, random_state=42)\n",
    "# param_grid = {\n",
    "#     'n_estimators': [50, 100, 150, 200],\n",
    "#     'max_depth': [None, 10, 20, 30],\n",
    "#     'min_samples_split': [2, 5, 10],\n",
    "#     'min_samples_leaf': [1, 2, 4],\n",
    "#     'bootstrap': [True, False],\n",
    "#     'max_features': ['sqrt', 'log2'],\n",
    "#     'criterion': ['gini', 'entropy']\n",
    "# }\n",
    "\n",
    "# rf_score_multiclass = get_best_params_multiclass(rf_classifier_m, param_grid, train, target_multiclass)"
   ]
  },
  {
   "cell_type": "markdown",
   "metadata": {},
   "source": [
    "### 2.7.2 Bagging Decision Tree M"
   ]
  },
  {
   "cell_type": "code",
   "execution_count": 28,
   "metadata": {},
   "outputs": [
    {
     "name": "stdout",
     "output_type": "stream",
     "text": [
      "Best hyperparameters:\n",
      "{'n_estimators': 50, 'max_samples': 0.2}\n",
      "Best weighted F1 score:\n",
      "0.5726980745721904\n"
     ]
    }
   ],
   "source": [
    "\n",
    "# bagging_dt_m = BaggingClassifier(estimator = dtc_m)\n",
    "\n",
    "\n",
    "# param_grid = {\n",
    "#     'n_estimators':[10,50,100,200], \n",
    "#     'max_samples': [0.2, 0.5, 0.7, 0.8, 1.0]\n",
    "# }\n",
    "\n",
    "# dt_bagging_score_multiclass = get_best_params_multiclass(bagging_dt_m, param_grid, train, target_multiclass)\n"
   ]
  },
  {
   "cell_type": "markdown",
   "metadata": {},
   "source": [
    "### 2.7.3 Bagging Logistic Regression M"
   ]
  },
  {
   "cell_type": "code",
   "execution_count": 59,
   "metadata": {},
   "outputs": [
    {
     "name": "stdout",
     "output_type": "stream",
     "text": [
      "Mean f1: 0.6254335801318577\n"
     ]
    }
   ],
   "source": [
    "# cv = StratifiedKFold(n_splits=5, shuffle=True, random_state=42)\n",
    "\n",
    "# bagging_logreg_m = BaggingClassifier(estimator = logr_m, n_jobs = -1)\n",
    "\n",
    "# scores_m_lr_bagging = cross_val_score(bagging_logreg_m, train, target_multiclass, cv=5, scoring='f1_weighted')\n",
    "\n",
    "# print('Mean f1:', np.mean(scores_m_lr_bagging))"
   ]
  },
  {
   "cell_type": "code",
   "execution_count": 100,
   "metadata": {},
   "outputs": [],
   "source": [
    "# scores_log_reg_bagging_m = np.mean(scores_m_lr_bagging)"
   ]
  },
  {
   "cell_type": "markdown",
   "metadata": {},
   "source": [
    "### 2.7.4 Bagging Naive Bayes M"
   ]
  },
  {
   "cell_type": "code",
   "execution_count": 60,
   "metadata": {},
   "outputs": [
    {
     "name": "stdout",
     "output_type": "stream",
     "text": [
      "Best hyperparameters:\n",
      "{'n_estimators': 200, 'max_samples': 0.2, 'max_features': 1.0, 'bootstrap': False}\n",
      "Best weighted F1 score:\n",
      "0.6123077919819686\n"
     ]
    }
   ],
   "source": [
    "# bagging_nb_m = BaggingClassifier(estimator = bernoulli_mult, n_jobs=-1)\n",
    "\n",
    "\n",
    "# param_grid = {\n",
    "#     'n_estimators':[100,200, 300, 500],\n",
    "#     'max_samples': [0.2, 0.5, 0.7, 0.8, 1.0],\n",
    "#     'max_features': [0.1, 0.2, 0.5, 1.0],\n",
    "#     'bootstrap': [True, False]\n",
    "# }\n",
    "\n",
    "# nb_bagging_score_multiclass = get_best_params_multiclass(bagging_nb_m, param_grid, train, target_multiclass)"
   ]
  },
  {
   "cell_type": "markdown",
   "metadata": {},
   "source": [
    "### 2.7.5 Adaboost Decision Tree M"
   ]
  },
  {
   "cell_type": "code",
   "execution_count": 61,
   "metadata": {},
   "outputs": [
    {
     "name": "stdout",
     "output_type": "stream",
     "text": [
      "Best hyperparameters:\n",
      "{'n_estimators': 50, 'learning_rate': 0.5, 'algorithm': 'SAMME.R'}\n",
      "Best weighted F1 score:\n",
      "0.6073284832821566\n"
     ]
    }
   ],
   "source": [
    "# adaboost_dtc_m = AdaBoostClassifier(estimator = dtc_m, random_state=42)\n",
    "\n",
    "\n",
    "# param_grid = {\n",
    "#     'n_estimators': [10, 50, 100, 200],\n",
    "#     'learning_rate': [0.01, 0.1, 0.5, 1.0],\n",
    "#     'algorithm': ['SAMME', 'SAMME.R']\n",
    "# }\n",
    "\n",
    "# dtc_adaboost_score_multiclass = get_best_params_multiclass(adaboost_dtc_m, param_grid, train, target_multiclass)"
   ]
  },
  {
   "cell_type": "markdown",
   "metadata": {},
   "source": [
    "### 2.7.6 Adaboost Logistic Regression M"
   ]
  },
  {
   "cell_type": "code",
   "execution_count": 63,
   "metadata": {},
   "outputs": [
    {
     "name": "stdout",
     "output_type": "stream",
     "text": [
      "Mean f1: 0.6245924595044052\n"
     ]
    }
   ],
   "source": [
    "# cv = StratifiedKFold(n_splits=5, shuffle=True, random_state=42)\n",
    "\n",
    "# adaboost_logreg_m = BaggingClassifier(estimator = logr_m, n_jobs = -1)\n",
    "\n",
    "# scores_lr_adaboost_m = cross_val_score(adaboost_logreg_m, train, target_multiclass, cv=5, scoring='f1_weighted')\n",
    "\n",
    "# print('Mean f1:', np.mean(scores_lr_adaboost_m))"
   ]
  },
  {
   "cell_type": "code",
   "execution_count": 102,
   "metadata": {},
   "outputs": [],
   "source": [
    "# scores_log_reg_m_adaboost = np.mean(scores_lr_adaboost_m)"
   ]
  },
  {
   "cell_type": "markdown",
   "metadata": {},
   "source": [
    "### 2.7.7 Adaboost Naive Bayes M"
   ]
  },
  {
   "cell_type": "code",
   "execution_count": 64,
   "metadata": {},
   "outputs": [
    {
     "name": "stdout",
     "output_type": "stream",
     "text": [
      "Best hyperparameters:\n",
      "{'n_estimators': 50, 'learning_rate': 0.5, 'algorithm': 'SAMME.R'}\n",
      "Best weighted F1 score:\n",
      "0.6237929651447494\n"
     ]
    }
   ],
   "source": [
    "# adaboost_nb_m = AdaBoostClassifier(estimator = bernoulli_mult, random_state=42)\n",
    "\n",
    "\n",
    "# param_grid = {\n",
    "#     'n_estimators': [10, 50, 100, 200],\n",
    "#     'learning_rate': [0.01, 0.1, 0.5, 1.0],\n",
    "#     'algorithm': ['SAMME', 'SAMME.R']\n",
    "# }\n",
    "\n",
    "# nb_adaboost_score_multiclass = get_best_params_multiclass(adaboost_nb_m, param_grid, train, target_multiclass)"
   ]
  },
  {
   "cell_type": "markdown",
   "metadata": {},
   "source": [
    "### 2.7.8 Gradient Boosting M"
   ]
  },
  {
   "cell_type": "code",
   "execution_count": 65,
   "metadata": {},
   "outputs": [
    {
     "name": "stdout",
     "output_type": "stream",
     "text": [
      "Best hyperparameters:\n",
      "{'subsample': 0.5, 'n_estimators': 50, 'max_features': None, 'max_depth': 10, 'learning_rate': 0.1}\n",
      "Best weighted F1 score:\n",
      "0.6504918003382235\n"
     ]
    }
   ],
   "source": [
    "# gbm_m = GradientBoostingClassifier(random_state=42)\n",
    "\n",
    "# param_grid = {\n",
    "#     'n_estimators': [10, 50, 100, 200],\n",
    "#     'learning_rate': [0.01, 0.1, 0.5, 1.0],\n",
    "#     'subsample': [0.2, 0.5, 0.7, 0.8, 1.0],\n",
    "#     'max_depth': [3, 5, 10, 20, 30],\n",
    "#     'max_features': ['sqrt', 'log2', None]\n",
    "# }\n",
    "\n",
    "# gbm_score_multiclass = get_best_params_multiclass(gbm_m, param_grid, train, target_multiclass)"
   ]
  },
  {
   "cell_type": "markdown",
   "metadata": {},
   "source": [
    "### 2.8 Model Selection Multiclass Problem\n"
   ]
  },
  {
   "cell_type": "code",
   "execution_count": 23,
   "metadata": {},
   "outputs": [
    {
     "ename": "NameError",
     "evalue": "name 'dtc_adaboost_score_multiclass' is not defined",
     "output_type": "error",
     "traceback": [
      "\u001b[1;31m---------------------------------------------------------------------------\u001b[0m",
      "\u001b[1;31mNameError\u001b[0m                                 Traceback (most recent call last)",
      "Cell \u001b[1;32mIn[23], line 1\u001b[0m\n\u001b[1;32m----> 1\u001b[0m dtc_scores_m \u001b[38;5;241m=\u001b[39m [dt_score_multiclass, dt_bagging_score_multiclass, \u001b[43mdtc_adaboost_score_multiclass\u001b[49m]\n\u001b[0;32m      2\u001b[0m naive_bayes_scores_m \u001b[38;5;241m=\u001b[39m [bern_score_multiclass, nb_adaboost_score_multiclass, nb_bagging_score_multiclass]\n\u001b[0;32m      3\u001b[0m logistic_regression_scores_m \u001b[38;5;241m=\u001b[39m [lr_score_multiclass, scores_log_reg_bagging_m, scores_log_reg_m_adaboost]\n",
      "\u001b[1;31mNameError\u001b[0m: name 'dtc_adaboost_score_multiclass' is not defined"
     ]
    }
   ],
   "source": [
    "# dtc_scores_m = [dt_score_multiclass, dt_bagging_score_multiclass, dtc_adaboost_score_multiclass]\n",
    "# naive_bayes_scores_m = [bern_score_multiclass, nb_adaboost_score_multiclass, nb_bagging_score_multiclass]\n",
    "# logistic_regression_scores_m = [lr_score_multiclass, scores_log_reg_bagging_m, scores_log_reg_m_adaboost]"
   ]
  },
  {
   "cell_type": "code",
   "execution_count": 105,
   "metadata": {},
   "outputs": [
    {
     "data": {
      "image/png": "[encoded data removed]",
      "text/plain": [
       "<Figure size 1200x800 with 1 Axes>"
      ]
     },
     "metadata": {},
     "output_type": "display_data"
    }
   ],
   "source": [
    "# data = {\n",
    "#     'Algorithm': ['Decision Tree'] * 3 + ['Naive Bayes'] * 3 + ['Logistic Regression'] * 3,\n",
    "#     'Score': dtc_scores_m + naive_bayes_scores_m + logistic_regression_scores_m,\n",
    "#     'Type': ['Normal', 'Bagging', 'AdaBoost'] * 3\n",
    "# }\n",
    "\n",
    "# sns.set_theme(style=\"whitegrid\")\n",
    "# plt.figure(figsize=(12, 8)) \n",
    "# g = sns.barplot(x='Algorithm', y='Score', hue='Type', data=pd.DataFrame(data))\n",
    "# g.set_xlabel(\"\")\n",
    "# g.set_ylabel(\"Score\")\n",
    "# plt.title('Comparison of scores between normal and with ensemble algorithms')\n",
    "# plt.legend(title='Algorithm')\n",
    "# plt.show()"
   ]
  },
  {
   "cell_type": "markdown",
   "metadata": {},
   "source": [
    "Best ones: <br> Decision Tree with Adaboost <br> Naive Bayes with Bagging <br> Logistic Regression with Bagging"
   ]
  },
  {
   "cell_type": "code",
   "execution_count": 106,
   "metadata": {},
   "outputs": [
    {
     "data": {
      "image/png": "[encoded data removed]",
      "text/plain": [
       "<Figure size 1200x800 with 1 Axes>"
      ]
     },
     "metadata": {},
     "output_type": "display_data"
    }
   ],
   "source": [
    "# data = {\n",
    "#     'Algorithm': ['Adaboost Decision Tree', 'Naive Bayes (Bagging)', 'Logistic Regression (Bagging)', 'KNN', 'Random Forest', 'Gradient Boosting', 'Neural Network(default)', 'SVM(default)'],\n",
    "#     'Score': [dt_bagging_score_multiclass, nb_bagging_score_multiclass, scores_log_reg_bagging_m, knn_score_multiclass, rf_score_multiclass, gbm_score_multiclass, score_nn_m, svm_score_m],\n",
    "# }\n",
    "\n",
    "# df = pd.DataFrame(data)\n",
    "# df = df.sort_values(by='Score')\n",
    "\n",
    "# sns.set_theme(style=\"whitegrid\")\n",
    "# plt.figure(figsize=(12, 8)) \n",
    "# g = sns.barplot(x='Algorithm', y='Score', data=df)\n",
    "# g.set_xlabel(\"\")\n",
    "# plt.xticks(rotation=45)\n",
    "# g.set_ylabel(\"Score\")\n",
    "# plt.title('Comparison of scores between algorithms (sorted)')\n",
    "# plt.show()"
   ]
  },
  {
   "cell_type": "markdown",
   "metadata": {},
   "source": [
    "### 2.9 Final Model (Multiclass):"
   ]
  },
  {
   "cell_type": "code",
   "execution_count": 5,
   "metadata": {},
   "outputs": [],
   "source": [
    "rf_mult = RandomForestClassifier(n_estimators=150, min_samples_split=10, min_samples_leaf=1, max_features='log2', max_depth=30, criterion='entropy', bootstrap=False, n_jobs=-1, random_state=42)"
   ]
  },
  {
   "cell_type": "code",
   "execution_count": 6,
   "metadata": {},
   "outputs": [
    {
     "name": "stderr",
     "output_type": "stream",
     "text": [
      "c:\\Users\\manab\\AppData\\Local\\Programs\\Python\\Python311\\Lib\\site-packages\\sklearn\\base.py:1152: DataConversionWarning: A column-vector y was passed when a 1d array was expected. Please change the shape of y to (n_samples,), for example using ravel().\n",
      "  return fit_method(estimator, *args, **kwargs)\n",
      "c:\\Users\\manab\\AppData\\Local\\Programs\\Python\\Python311\\Lib\\site-packages\\sklearn\\base.py:1152: DataConversionWarning: A column-vector y was passed when a 1d array was expected. Please change the shape of y to (n_samples,), for example using ravel().\n",
      "  return fit_method(estimator, *args, **kwargs)\n",
      "c:\\Users\\manab\\AppData\\Local\\Programs\\Python\\Python311\\Lib\\site-packages\\sklearn\\base.py:1152: DataConversionWarning: A column-vector y was passed when a 1d array was expected. Please change the shape of y to (n_samples,), for example using ravel().\n",
      "  return fit_method(estimator, *args, **kwargs)\n",
      "c:\\Users\\manab\\AppData\\Local\\Programs\\Python\\Python311\\Lib\\site-packages\\sklearn\\base.py:1152: DataConversionWarning: A column-vector y was passed when a 1d array was expected. Please change the shape of y to (n_samples,), for example using ravel().\n",
      "  return fit_method(estimator, *args, **kwargs)\n",
      "c:\\Users\\manab\\AppData\\Local\\Programs\\Python\\Python311\\Lib\\site-packages\\sklearn\\base.py:1152: DataConversionWarning: A column-vector y was passed when a 1d array was expected. Please change the shape of y to (n_samples,), for example using ravel().\n",
      "  return fit_method(estimator, *args, **kwargs)\n"
     ]
    }
   ],
   "source": [
    "from sklearn.metrics import precision_score, recall_score\n",
    "cv = StratifiedKFold(n_splits=5, shuffle=True, random_state=42)\n",
    "y_pred = cross_val_predict(rf_mult, train, target_multiclass, cv=cv)\n",
    "precision = precision_score(target_multiclass, y_pred, average='weighted')\n",
    "recall = recall_score(target_multiclass, y_pred, average='weighted')\n",
    "conf_matrix_m = confusion_matrix(target_multiclass, y_pred)"
   ]
  },
  {
   "cell_type": "code",
   "execution_count": 7,
   "metadata": {},
   "outputs": [
    {
     "data": {
      "text/plain": [
       "0.6647138042133638"
      ]
     },
     "execution_count": 7,
     "metadata": {},
     "output_type": "execute_result"
    }
   ],
   "source": [
    "precision"
   ]
  },
  {
   "cell_type": "code",
   "execution_count": 8,
   "metadata": {},
   "outputs": [
    {
     "data": {
      "text/plain": [
       "0.6857126812764105"
      ]
     },
     "execution_count": 8,
     "metadata": {},
     "output_type": "execute_result"
    }
   ],
   "source": [
    "recall"
   ]
  },
  {
   "cell_type": "code",
   "execution_count": 21,
   "metadata": {},
   "outputs": [
    {
     "data": {
      "text/plain": [
       "array([[ 3745,  2376,  1829],\n",
       "       [ 7823,  9100,  7956],\n",
       "       [ 3329,  4432, 30641]], dtype=int64)"
      ]
     },
     "execution_count": 21,
     "metadata": {},
     "output_type": "execute_result"
    }
   ],
   "source": [
    "conf_matrix_m"
   ]
  }
 ],
 "metadata": {
  "kernelspec": {
   "display_name": "Python 3",
   "language": "python",
   "name": "python3"
  },
  "language_info": {
   "codemirror_mode": {
    "name": "ipython",
    "version": 3
   },
   "file_extension": ".py",
   "mimetype": "text/x-python",
   "name": "python",
   "nbconvert_exporter": "python",
   "pygments_lexer": "ipython3",
   "version": "3.11.2"
  }
 },
 "nbformat": 4,
 "nbformat_minor": 2
}
